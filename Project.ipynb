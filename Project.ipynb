{
 "cells": [
  {
   "cell_type": "code",
   "execution_count": 1,
   "id": "a5dcf8bd-bdc8-4035-90f7-dd82f1053b33",
   "metadata": {},
   "outputs": [
    {
     "name": "stderr",
     "output_type": "stream",
     "text": [
      "Setting default log level to \"WARN\".\n",
      "To adjust logging level use sc.setLogLevel(newLevel). For SparkR, use setLogLevel(newLevel).\n",
      "24/04/30 20:28:26 WARN NativeCodeLoader: Unable to load native-hadoop library for your platform... using builtin-java classes where applicable\n",
      "/opt/conda/envs/bigdata/lib/python3.10/site-packages/pyspark/sql/context.py:158: FutureWarning: Deprecated in 3.0.0. Use SparkSession.builder.getOrCreate() instead.\n",
      "  warnings.warn(\n"
     ]
    }
   ],
   "source": [
    "import os\n",
    "import re\n",
    "import pyspark\n",
    "from pyspark.sql import Window\n",
    "from pyspark.sql import functions as F\n",
    "from pyspark.sql.functions import *\n",
    "conf = pyspark.SparkConf()\n",
    "conf.set('spark.ui.proxyBase', '/user/' + os.environ['JUPYTERHUB_USER'] + '/proxy/4041')\n",
    "#conf.set('spark.sql.repl.eagerEval.enabled', True)\u000b",
    "\n",
    "conf.set('spark.driver.memory','4g')\n",
    "\n",
    "sc = pyspark.SparkContext(conf=conf)\n",
    "sc.setLogLevel(\"ERROR\")\n",
    "spark = pyspark.SQLContext.getOrCreate(sc)"
   ]
  },
  {
   "cell_type": "markdown",
   "id": "353c8577-0ba5-4ab1-aac3-af83b75b9d00",
   "metadata": {},
   "source": [
    "## Load data"
   ]
  },
  {
   "cell_type": "code",
   "execution_count": 2,
   "id": "81ffbf46-39be-4c5a-bff5-005b6582a178",
   "metadata": {},
   "outputs": [
    {
     "name": "stderr",
     "output_type": "stream",
     "text": [
      "                                                                                \r"
     ]
    }
   ],
   "source": [
    "# Load csv file\n",
    "weather_data = spark.read\\\n",
    "              .option(\"inferSchema\", \"true\")\\\n",
    "              .option(\"header\", \"true\")\\\n",
    "              .csv(\"weather_data_filtered.csv\")"
   ]
  },
  {
   "cell_type": "code",
   "execution_count": 3,
   "id": "9959ad61-f2d2-49b9-948b-d4219c7eab5e",
   "metadata": {},
   "outputs": [
    {
     "name": "stdout",
     "output_type": "stream",
     "text": [
      "root\n",
      " |-- utc_timestamp: timestamp (nullable = true)\n",
      " |-- AT_temperature: double (nullable = true)\n",
      " |-- AT_radiation_direct_horizontal: double (nullable = true)\n",
      " |-- AT_radiation_diffuse_horizontal: double (nullable = true)\n",
      " |-- BE_temperature: double (nullable = true)\n",
      " |-- BE_radiation_direct_horizontal: double (nullable = true)\n",
      " |-- BE_radiation_diffuse_horizontal: double (nullable = true)\n",
      " |-- BG_temperature: double (nullable = true)\n",
      " |-- BG_radiation_direct_horizontal: double (nullable = true)\n",
      " |-- BG_radiation_diffuse_horizontal: double (nullable = true)\n",
      " |-- CH_temperature: double (nullable = true)\n",
      " |-- CH_radiation_direct_horizontal: double (nullable = true)\n",
      " |-- CH_radiation_diffuse_horizontal: double (nullable = true)\n",
      " |-- CZ_temperature: double (nullable = true)\n",
      " |-- CZ_radiation_direct_horizontal: double (nullable = true)\n",
      " |-- CZ_radiation_diffuse_horizontal: double (nullable = true)\n",
      " |-- DE_temperature: double (nullable = true)\n",
      " |-- DE_radiation_direct_horizontal: double (nullable = true)\n",
      " |-- DE_radiation_diffuse_horizontal: double (nullable = true)\n",
      " |-- DK_temperature: double (nullable = true)\n",
      " |-- DK_radiation_direct_horizontal: double (nullable = true)\n",
      " |-- DK_radiation_diffuse_horizontal: double (nullable = true)\n",
      " |-- EE_temperature: double (nullable = true)\n",
      " |-- EE_radiation_direct_horizontal: double (nullable = true)\n",
      " |-- EE_radiation_diffuse_horizontal: double (nullable = true)\n",
      " |-- ES_temperature: double (nullable = true)\n",
      " |-- ES_radiation_direct_horizontal: double (nullable = true)\n",
      " |-- ES_radiation_diffuse_horizontal: double (nullable = true)\n",
      " |-- FI_temperature: double (nullable = true)\n",
      " |-- FI_radiation_direct_horizontal: double (nullable = true)\n",
      " |-- FI_radiation_diffuse_horizontal: double (nullable = true)\n",
      " |-- FR_temperature: double (nullable = true)\n",
      " |-- FR_radiation_direct_horizontal: double (nullable = true)\n",
      " |-- FR_radiation_diffuse_horizontal: double (nullable = true)\n",
      " |-- GB_temperature: double (nullable = true)\n",
      " |-- GB_radiation_direct_horizontal: double (nullable = true)\n",
      " |-- GB_radiation_diffuse_horizontal: double (nullable = true)\n",
      " |-- GR_temperature: double (nullable = true)\n",
      " |-- GR_radiation_direct_horizontal: double (nullable = true)\n",
      " |-- GR_radiation_diffuse_horizontal: double (nullable = true)\n",
      " |-- HR_temperature: double (nullable = true)\n",
      " |-- HR_radiation_direct_horizontal: double (nullable = true)\n",
      " |-- HR_radiation_diffuse_horizontal: double (nullable = true)\n",
      " |-- HU_temperature: double (nullable = true)\n",
      " |-- HU_radiation_direct_horizontal: double (nullable = true)\n",
      " |-- HU_radiation_diffuse_horizontal: double (nullable = true)\n",
      " |-- IE_temperature: double (nullable = true)\n",
      " |-- IE_radiation_direct_horizontal: double (nullable = true)\n",
      " |-- IE_radiation_diffuse_horizontal: double (nullable = true)\n",
      " |-- IT_temperature: double (nullable = true)\n",
      " |-- IT_radiation_direct_horizontal: double (nullable = true)\n",
      " |-- IT_radiation_diffuse_horizontal: double (nullable = true)\n",
      " |-- LT_temperature: double (nullable = true)\n",
      " |-- LT_radiation_direct_horizontal: double (nullable = true)\n",
      " |-- LT_radiation_diffuse_horizontal: double (nullable = true)\n",
      " |-- LU_temperature: double (nullable = true)\n",
      " |-- LU_radiation_direct_horizontal: double (nullable = true)\n",
      " |-- LU_radiation_diffuse_horizontal: double (nullable = true)\n",
      " |-- LV_temperature: double (nullable = true)\n",
      " |-- LV_radiation_direct_horizontal: double (nullable = true)\n",
      " |-- LV_radiation_diffuse_horizontal: double (nullable = true)\n",
      " |-- NL_temperature: double (nullable = true)\n",
      " |-- NL_radiation_direct_horizontal: double (nullable = true)\n",
      " |-- NL_radiation_diffuse_horizontal: double (nullable = true)\n",
      " |-- NO_temperature: double (nullable = true)\n",
      " |-- NO_radiation_direct_horizontal: double (nullable = true)\n",
      " |-- NO_radiation_diffuse_horizontal: double (nullable = true)\n",
      " |-- PL_temperature: double (nullable = true)\n",
      " |-- PL_radiation_direct_horizontal: double (nullable = true)\n",
      " |-- PL_radiation_diffuse_horizontal: double (nullable = true)\n",
      " |-- PT_temperature: double (nullable = true)\n",
      " |-- PT_radiation_direct_horizontal: double (nullable = true)\n",
      " |-- PT_radiation_diffuse_horizontal: double (nullable = true)\n",
      " |-- RO_temperature: double (nullable = true)\n",
      " |-- RO_radiation_direct_horizontal: double (nullable = true)\n",
      " |-- RO_radiation_diffuse_horizontal: double (nullable = true)\n",
      " |-- SE_temperature: double (nullable = true)\n",
      " |-- SE_radiation_direct_horizontal: double (nullable = true)\n",
      " |-- SE_radiation_diffuse_horizontal: double (nullable = true)\n",
      " |-- SI_temperature: double (nullable = true)\n",
      " |-- SI_radiation_direct_horizontal: double (nullable = true)\n",
      " |-- SI_radiation_diffuse_horizontal: double (nullable = true)\n",
      " |-- SK_temperature: double (nullable = true)\n",
      " |-- SK_radiation_direct_horizontal: double (nullable = true)\n",
      " |-- SK_radiation_diffuse_horizontal: double (nullable = true)\n",
      "\n"
     ]
    }
   ],
   "source": [
    "weather_data.printSchema()"
   ]
  },
  {
   "cell_type": "code",
   "execution_count": 4,
   "id": "c21962ce-b258-44e1-adb9-248e2c89439b",
   "metadata": {},
   "outputs": [],
   "source": [
    "weather_data_DE = weather_data.select(\"utc_timestamp\",\"DE_temperature\", \"DE_radiation_direct_horizontal\", \"DE_radiation_diffuse_horizontal\")"
   ]
  },
  {
   "cell_type": "code",
   "execution_count": 5,
   "id": "70ffbd5f-5281-44b7-8037-028e89749f92",
   "metadata": {},
   "outputs": [
    {
     "name": "stdout",
     "output_type": "stream",
     "text": [
      "+-------------------+--------------+------------------------------+-------------------------------+\n",
      "|      utc_timestamp|DE_temperature|DE_radiation_direct_horizontal|DE_radiation_diffuse_horizontal|\n",
      "+-------------------+--------------+------------------------------+-------------------------------+\n",
      "|2014-12-31 19:00:00|        -0.981|                           0.0|                            0.0|\n",
      "|2014-12-31 20:00:00|        -1.035|                           0.0|                            0.0|\n",
      "|2014-12-31 21:00:00|        -1.109|                           0.0|                            0.0|\n",
      "|2014-12-31 22:00:00|        -1.166|                           0.0|                            0.0|\n",
      "|2014-12-31 23:00:00|        -1.226|                           0.0|                            0.0|\n",
      "|2015-01-01 00:00:00|        -1.305|                           0.0|                            0.0|\n",
      "|2015-01-01 01:00:00|        -1.478|                           0.0|                            0.0|\n",
      "|2015-01-01 02:00:00|        -1.692|                0.432794925491|                  6.76800507451|\n",
      "|2015-01-01 03:00:00|        -1.046|                 8.87734881749|                  51.9463511825|\n",
      "|2015-01-01 04:00:00|         0.072|                 34.1582502313|                  97.0929497687|\n",
      "+-------------------+--------------+------------------------------+-------------------------------+\n",
      "only showing top 10 rows\n",
      "\n"
     ]
    }
   ],
   "source": [
    "weather_data_DE.show(10)"
   ]
  },
  {
   "cell_type": "code",
   "execution_count": 6,
   "id": "e97f5510-148f-4b61-b926-cb69cf13ecec",
   "metadata": {},
   "outputs": [
    {
     "name": "stderr",
     "output_type": "stream",
     "text": [
      "                                                                                \r"
     ]
    },
    {
     "data": {
      "text/plain": [
       "43824"
      ]
     },
     "execution_count": 6,
     "metadata": {},
     "output_type": "execute_result"
    }
   ],
   "source": [
    "weather_data_DE.count()"
   ]
  },
  {
   "cell_type": "code",
   "execution_count": 7,
   "id": "940dfb90-87eb-4897-b5fb-82d2075c965c",
   "metadata": {},
   "outputs": [
    {
     "data": {
      "text/plain": [
       "[Row(utc_timestamp=datetime.datetime(2014, 12, 31, 19, 0), DE_temperature=-0.981, DE_radiation_direct_horizontal=0.0, DE_radiation_diffuse_horizontal=0.0)]"
      ]
     },
     "execution_count": 7,
     "metadata": {},
     "output_type": "execute_result"
    }
   ],
   "source": [
    "weather_data_DE.head(1)"
   ]
  },
  {
   "cell_type": "code",
   "execution_count": 8,
   "id": "b4f00d68-49de-41f2-9b07-c13fdad9ecf7",
   "metadata": {},
   "outputs": [
    {
     "name": "stderr",
     "output_type": "stream",
     "text": [
      "                                                                                \r"
     ]
    },
    {
     "data": {
      "text/plain": [
       "[Row(utc_timestamp=datetime.datetime(2019, 12, 31, 18, 0), DE_temperature=-0.044, DE_radiation_direct_horizontal=0.0, DE_radiation_diffuse_horizontal=0.0)]"
      ]
     },
     "execution_count": 8,
     "metadata": {},
     "output_type": "execute_result"
    }
   ],
   "source": [
    "weather_data_DE.tail(1)"
   ]
  },
  {
   "cell_type": "code",
   "execution_count": 9,
   "id": "ef4e4d51-4a7f-4fa0-be2c-8f26784a8ff5",
   "metadata": {},
   "outputs": [],
   "source": [
    "# datetime.datetime(2014, 12, 31, 19, 0) - datetime.datetime(2019, 12, 31, 18, 0)"
   ]
  },
  {
   "cell_type": "code",
   "execution_count": 10,
   "id": "d2155ef3-0286-41ca-88bb-3a345f685c32",
   "metadata": {},
   "outputs": [
    {
     "name": "stderr",
     "output_type": "stream",
     "text": [
      "                                                                                \r"
     ]
    }
   ],
   "source": [
    "# Load csv file\n",
    "time_series = spark.read\\\n",
    "              .option(\"inferSchema\", \"true\")\\\n",
    "              .option(\"header\", \"true\")\\\n",
    "              .csv(\"time_series_60min_singleindex_DE.csv\")"
   ]
  },
  {
   "cell_type": "code",
   "execution_count": 11,
   "id": "282cfee3-1edb-45e8-92f9-981999e46472",
   "metadata": {},
   "outputs": [
    {
     "name": "stdout",
     "output_type": "stream",
     "text": [
      "root\n",
      " |-- utc_timestamp: timestamp (nullable = true)\n",
      " |-- cet_cest_timestamp: timestamp (nullable = true)\n",
      " |-- DE_load_actual_entsoe_transparency: integer (nullable = true)\n",
      " |-- DE_load_forecast_entsoe_transparency: integer (nullable = true)\n",
      " |-- DE_solar_capacity: integer (nullable = true)\n",
      " |-- DE_solar_generation_actual: integer (nullable = true)\n",
      " |-- DE_solar_profile: double (nullable = true)\n",
      " |-- DE_wind_capacity: integer (nullable = true)\n",
      " |-- DE_wind_generation_actual: integer (nullable = true)\n",
      " |-- DE_wind_profile: double (nullable = true)\n",
      " |-- DE_wind_offshore_capacity: integer (nullable = true)\n",
      " |-- DE_wind_offshore_generation_actual: integer (nullable = true)\n",
      " |-- DE_wind_offshore_profile: double (nullable = true)\n",
      " |-- DE_wind_onshore_capacity: integer (nullable = true)\n",
      " |-- DE_wind_onshore_generation_actual: integer (nullable = true)\n",
      " |-- DE_wind_onshore_profile: double (nullable = true)\n",
      "\n"
     ]
    }
   ],
   "source": [
    "time_series.printSchema()"
   ]
  },
  {
   "cell_type": "code",
   "execution_count": 12,
   "id": "409effb4-6784-48a5-b1b0-0be0d83acffb",
   "metadata": {},
   "outputs": [
    {
     "data": {
      "text/plain": [
       "43824"
      ]
     },
     "execution_count": 12,
     "metadata": {},
     "output_type": "execute_result"
    }
   ],
   "source": [
    "time_series.count()"
   ]
  },
  {
   "cell_type": "code",
   "execution_count": 13,
   "id": "12d1c177-adbe-41c9-b5c5-10bc7a8fc3ee",
   "metadata": {},
   "outputs": [],
   "source": [
    "time_series_DE = time_series.select(\"utc_timestamp\", \"DE_solar_generation_actual\",\"DE_wind_generation_actual\")"
   ]
  },
  {
   "cell_type": "code",
   "execution_count": 14,
   "id": "edd0fd0a-cbf1-40b2-8887-720df6d7af40",
   "metadata": {},
   "outputs": [
    {
     "name": "stdout",
     "output_type": "stream",
     "text": [
      "+-------------------+--------------------------+-------------------------+\n",
      "|      utc_timestamp|DE_solar_generation_actual|DE_wind_generation_actual|\n",
      "+-------------------+--------------------------+-------------------------+\n",
      "|2014-12-31 18:00:00|                      NULL|                     NULL|\n",
      "|2014-12-31 19:00:00|                      NULL|                     8852|\n",
      "|2014-12-31 20:00:00|                      NULL|                     9054|\n",
      "|2014-12-31 21:00:00|                      NULL|                     9070|\n",
      "|2014-12-31 22:00:00|                      NULL|                     9163|\n",
      "|2014-12-31 23:00:00|                      NULL|                     9231|\n",
      "|2015-01-01 00:00:00|                      NULL|                     9689|\n",
      "|2015-01-01 01:00:00|                      NULL|                    10331|\n",
      "|2015-01-01 02:00:00|                        71|                    10208|\n",
      "|2015-01-01 03:00:00|                       773|                    10029|\n",
      "+-------------------+--------------------------+-------------------------+\n",
      "only showing top 10 rows\n",
      "\n"
     ]
    }
   ],
   "source": [
    "time_series_DE.show(10)"
   ]
  },
  {
   "cell_type": "code",
   "execution_count": 15,
   "id": "ce113c33-273a-487e-9939-5bc16139c04a",
   "metadata": {},
   "outputs": [
    {
     "data": {
      "text/plain": [
       "[Row(utc_timestamp=datetime.datetime(2014, 12, 31, 18, 0), DE_solar_generation_actual=None, DE_wind_generation_actual=None)]"
      ]
     },
     "execution_count": 15,
     "metadata": {},
     "output_type": "execute_result"
    }
   ],
   "source": [
    "time_series_DE.head(1)"
   ]
  },
  {
   "cell_type": "code",
   "execution_count": 16,
   "id": "71bdee5f-d978-4a0c-a094-28bfb986ba70",
   "metadata": {},
   "outputs": [
    {
     "data": {
      "text/plain": [
       "[Row(utc_timestamp=datetime.datetime(2019, 12, 31, 17, 0), DE_solar_generation_actual=0, DE_wind_generation_actual=6573)]"
      ]
     },
     "execution_count": 16,
     "metadata": {},
     "output_type": "execute_result"
    }
   ],
   "source": [
    "time_series_DE.tail(1)"
   ]
  },
  {
   "cell_type": "markdown",
   "id": "4ab271d0-49a6-4638-9f01-2e59ff8d2f19",
   "metadata": {},
   "source": [
    "## Join datasets"
   ]
  },
  {
   "cell_type": "code",
   "execution_count": 17,
   "id": "25ed937b-2d17-44ba-bf2b-4f7f75583e76",
   "metadata": {},
   "outputs": [],
   "source": [
    "df_DE = weather_data_DE.join(time_series_DE, weather_data_DE.utc_timestamp == time_series_DE.utc_timestamp)"
   ]
  },
  {
   "cell_type": "code",
   "execution_count": 18,
   "id": "3f9151a3-fb93-4a58-8cca-5e3ca4d4967b",
   "metadata": {},
   "outputs": [
    {
     "name": "stderr",
     "output_type": "stream",
     "text": [
      "                                                                                \r"
     ]
    },
    {
     "data": {
      "text/plain": [
       "43823"
      ]
     },
     "execution_count": 18,
     "metadata": {},
     "output_type": "execute_result"
    }
   ],
   "source": [
    "df_DE.count()"
   ]
  },
  {
   "cell_type": "code",
   "execution_count": 19,
   "id": "f3c54afb-25a5-4f54-97df-e59d776c70a3",
   "metadata": {},
   "outputs": [
    {
     "name": "stderr",
     "output_type": "stream",
     "text": [
      "                                                                                \r"
     ]
    },
    {
     "name": "stdout",
     "output_type": "stream",
     "text": [
      "+-------------------+--------------+------------------------------+-------------------------------+-------------------+--------------------------+-------------------------+\n",
      "|      utc_timestamp|DE_temperature|DE_radiation_direct_horizontal|DE_radiation_diffuse_horizontal|      utc_timestamp|DE_solar_generation_actual|DE_wind_generation_actual|\n",
      "+-------------------+--------------+------------------------------+-------------------------------+-------------------+--------------------------+-------------------------+\n",
      "|2014-12-31 19:00:00|        -0.981|                           0.0|                            0.0|2014-12-31 19:00:00|                      NULL|                     8852|\n",
      "|2014-12-31 20:00:00|        -1.035|                           0.0|                            0.0|2014-12-31 20:00:00|                      NULL|                     9054|\n",
      "|2014-12-31 21:00:00|        -1.109|                           0.0|                            0.0|2014-12-31 21:00:00|                      NULL|                     9070|\n",
      "|2014-12-31 22:00:00|        -1.166|                           0.0|                            0.0|2014-12-31 22:00:00|                      NULL|                     9163|\n",
      "|2014-12-31 23:00:00|        -1.226|                           0.0|                            0.0|2014-12-31 23:00:00|                      NULL|                     9231|\n",
      "+-------------------+--------------+------------------------------+-------------------------------+-------------------+--------------------------+-------------------------+\n",
      "only showing top 5 rows\n",
      "\n"
     ]
    }
   ],
   "source": [
    "df_DE.show(5)"
   ]
  },
  {
   "cell_type": "code",
   "execution_count": 20,
   "id": "a21141f2-463c-4dfc-b7ff-094f4b78c018",
   "metadata": {},
   "outputs": [],
   "source": [
    "df_DE_solar =df_DE.select(\"DE_temperature\", \"DE_radiation_direct_horizontal\", \"DE_radiation_diffuse_horizontal\", \"DE_solar_generation_actual\")"
   ]
  },
  {
   "cell_type": "code",
   "execution_count": 21,
   "id": "5794bcec-3c2b-45ef-a7aa-d9044c3cc0d2",
   "metadata": {},
   "outputs": [
    {
     "name": "stderr",
     "output_type": "stream",
     "text": [
      "                                                                                \r"
     ]
    },
    {
     "name": "stdout",
     "output_type": "stream",
     "text": [
      "+--------------+------------------------------+-------------------------------+--------------------------+\n",
      "|DE_temperature|DE_radiation_direct_horizontal|DE_radiation_diffuse_horizontal|DE_solar_generation_actual|\n",
      "+--------------+------------------------------+-------------------------------+--------------------------+\n",
      "|        -0.981|                           0.0|                            0.0|                      NULL|\n",
      "|        -1.035|                           0.0|                            0.0|                      NULL|\n",
      "|        -1.109|                           0.0|                            0.0|                      NULL|\n",
      "|        -1.166|                           0.0|                            0.0|                      NULL|\n",
      "|        -1.226|                           0.0|                            0.0|                      NULL|\n",
      "|        -1.305|                           0.0|                            0.0|                      NULL|\n",
      "|        -1.478|                           0.0|                            0.0|                      NULL|\n",
      "|        -1.692|                0.432794925491|                  6.76800507451|                        71|\n",
      "|        -1.046|                 8.87734881749|                  51.9463511825|                       773|\n",
      "|         0.072|                 34.1582502313|                  97.0929497687|                      2117|\n",
      "+--------------+------------------------------+-------------------------------+--------------------------+\n",
      "only showing top 10 rows\n",
      "\n"
     ]
    }
   ],
   "source": [
    "df_DE_solar.show(10)"
   ]
  },
  {
   "cell_type": "code",
   "execution_count": 22,
   "id": "840e1e0f-199c-4bf5-9536-a9105c075e1f",
   "metadata": {},
   "outputs": [
    {
     "name": "stderr",
     "output_type": "stream",
     "text": [
      "[Stage 27:>                                                         (0 + 1) / 1]\r"
     ]
    },
    {
     "name": "stdout",
     "output_type": "stream",
     "text": [
      "+-------+-----------------+------------------------------+-------------------------------+--------------------------+\n",
      "|summary|   DE_temperature|DE_radiation_direct_horizontal|DE_radiation_diffuse_horizontal|DE_solar_generation_actual|\n",
      "+-------+-----------------+------------------------------+-------------------------------+--------------------------+\n",
      "|  count|            43823|                         43823|                          43823|                     43720|\n",
      "|   mean|9.850944458389428|             82.75276786541987|              67.07522581369929|         4304.664775846295|\n",
      "| stddev|8.130191850223826|            159.00064157148347|              89.17442660813396|         6603.901406183148|\n",
      "|    min|          -12.686|                           0.0|                            0.0|                         0|\n",
      "|    25%|            3.259|                           0.0|                            0.0|                         0|\n",
      "|    50%|            9.236|                0.420896849743|                  6.31168499305|                       125|\n",
      "|    75%|           16.027|                 79.1732176318|                  119.482967251|                      6818|\n",
      "|    max|           35.479|                 841.681037795|                  392.089532353|                     30028|\n",
      "+-------+-----------------+------------------------------+-------------------------------+--------------------------+\n",
      "\n"
     ]
    },
    {
     "name": "stderr",
     "output_type": "stream",
     "text": [
      "                                                                                \r"
     ]
    }
   ],
   "source": [
    "df_DE_solar.summary().show()"
   ]
  },
  {
   "cell_type": "code",
   "execution_count": 23,
   "id": "bd6a7ddb-2bad-4186-bb96-8a4cf3dfad57",
   "metadata": {},
   "outputs": [],
   "source": [
    "df_DE_solar = df_DE_solar.na.fill(0)"
   ]
  },
  {
   "cell_type": "code",
   "execution_count": 24,
   "id": "c1976177-e4e8-4678-b9b8-1432b6af241d",
   "metadata": {},
   "outputs": [
    {
     "name": "stderr",
     "output_type": "stream",
     "text": [
      "[Stage 29:=============================>                            (1 + 1) / 2]\r"
     ]
    },
    {
     "name": "stdout",
     "output_type": "stream",
     "text": [
      "+-------+-----------------+------------------------------+-------------------------------+--------------------------+\n",
      "|summary|   DE_temperature|DE_radiation_direct_horizontal|DE_radiation_diffuse_horizontal|DE_solar_generation_actual|\n",
      "+-------+-----------------+------------------------------+-------------------------------+--------------------------+\n",
      "|  count|            43823|                         43823|                          43823|                     43823|\n",
      "|   mean|9.850944458389428|             82.75276786541987|              67.07522581369929|         4294.547246879492|\n",
      "| stddev|8.130191850223826|            159.00064157148347|              89.17442660813396|        6599.4287412459225|\n",
      "|    min|          -12.686|                           0.0|                            0.0|                         0|\n",
      "|    25%|            3.259|                           0.0|                            0.0|                         0|\n",
      "|    50%|            9.236|                0.420896849743|                  6.31168499305|                       120|\n",
      "|    75%|           16.027|                 79.1732176318|                  119.482967251|                      6799|\n",
      "|    max|           35.479|                 841.681037795|                  392.089532353|                     30028|\n",
      "+-------+-----------------+------------------------------+-------------------------------+--------------------------+\n",
      "\n"
     ]
    },
    {
     "name": "stderr",
     "output_type": "stream",
     "text": [
      "                                                                                \r"
     ]
    }
   ],
   "source": [
    "df_DE_solar.summary().show()"
   ]
  },
  {
   "cell_type": "code",
   "execution_count": 25,
   "id": "1addaf50-4ff0-40d9-aefd-360ed7b9c5bb",
   "metadata": {},
   "outputs": [],
   "source": [
    "df_DE_wind =df_DE.select(\"DE_temperature\", \"DE_radiation_direct_horizontal\", \"DE_radiation_diffuse_horizontal\", \"DE_wind_generation_actual\")"
   ]
  },
  {
   "cell_type": "code",
   "execution_count": 26,
   "id": "985a4010-b8fc-41aa-adbd-1163c4bdd5bf",
   "metadata": {},
   "outputs": [
    {
     "name": "stderr",
     "output_type": "stream",
     "text": [
      "                                                                                \r"
     ]
    },
    {
     "name": "stdout",
     "output_type": "stream",
     "text": [
      "+--------------+------------------------------+-------------------------------+-------------------------+\n",
      "|DE_temperature|DE_radiation_direct_horizontal|DE_radiation_diffuse_horizontal|DE_wind_generation_actual|\n",
      "+--------------+------------------------------+-------------------------------+-------------------------+\n",
      "|        -0.981|                           0.0|                            0.0|                     8852|\n",
      "|        -1.035|                           0.0|                            0.0|                     9054|\n",
      "|        -1.109|                           0.0|                            0.0|                     9070|\n",
      "|        -1.166|                           0.0|                            0.0|                     9163|\n",
      "|        -1.226|                           0.0|                            0.0|                     9231|\n",
      "|        -1.305|                           0.0|                            0.0|                     9689|\n",
      "|        -1.478|                           0.0|                            0.0|                    10331|\n",
      "|        -1.692|                0.432794925491|                  6.76800507451|                    10208|\n",
      "|        -1.046|                 8.87734881749|                  51.9463511825|                    10029|\n",
      "|         0.072|                 34.1582502313|                  97.0929497687|                    10550|\n",
      "+--------------+------------------------------+-------------------------------+-------------------------+\n",
      "only showing top 10 rows\n",
      "\n"
     ]
    }
   ],
   "source": [
    "df_DE_wind.show(10)"
   ]
  },
  {
   "cell_type": "code",
   "execution_count": 27,
   "id": "8ddcb228-cb91-4baf-b4d4-d8899c930f7b",
   "metadata": {},
   "outputs": [
    {
     "name": "stderr",
     "output_type": "stream",
     "text": [
      "[Stage 35:=============================>                            (1 + 1) / 2]\r"
     ]
    },
    {
     "name": "stdout",
     "output_type": "stream",
     "text": [
      "+-------+-----------------+------------------------------+-------------------------------+-------------------------+\n",
      "|summary|   DE_temperature|DE_radiation_direct_horizontal|DE_radiation_diffuse_horizontal|DE_wind_generation_actual|\n",
      "+-------+-----------------+------------------------------+-------------------------------+-------------------------+\n",
      "|  count|            43823|                         43823|                          43823|                    43749|\n",
      "|   mean|9.850944458389428|             82.75276786541987|              67.07522581369929|       11157.660037943724|\n",
      "| stddev|8.130191850223826|            159.00064157148347|              89.17442660813396|        8694.210223442207|\n",
      "|    min|          -12.686|                           0.0|                            0.0|                      135|\n",
      "|    25%|            3.259|                           0.0|                            0.0|                     4422|\n",
      "|    50%|            9.236|                0.420896849743|                  6.31168499305|                     8727|\n",
      "|    75%|           16.027|                 79.1732176318|                  119.482967251|                    15581|\n",
      "|    max|           35.479|                 841.681037795|                  392.089532353|                    45085|\n",
      "+-------+-----------------+------------------------------+-------------------------------+-------------------------+\n",
      "\n"
     ]
    },
    {
     "name": "stderr",
     "output_type": "stream",
     "text": [
      "                                                                                \r"
     ]
    }
   ],
   "source": [
    "df_DE_wind.summary().show()"
   ]
  },
  {
   "cell_type": "code",
   "execution_count": 28,
   "id": "9384251e-e59a-4d65-8f60-4984a2a5d538",
   "metadata": {},
   "outputs": [],
   "source": [
    "df_DE_wind = df_DE_wind.na.fill(0)"
   ]
  },
  {
   "cell_type": "code",
   "execution_count": 29,
   "id": "f228a6dd-43e2-4e82-9760-835e7e05894d",
   "metadata": {},
   "outputs": [
    {
     "name": "stderr",
     "output_type": "stream",
     "text": [
      "[Stage 39:=============================>                            (1 + 1) / 2]\r"
     ]
    },
    {
     "name": "stdout",
     "output_type": "stream",
     "text": [
      "+-------+-----------------+------------------------------+-------------------------------+-------------------------+\n",
      "|summary|   DE_temperature|DE_radiation_direct_horizontal|DE_radiation_diffuse_horizontal|DE_wind_generation_actual|\n",
      "+-------+-----------------+------------------------------+-------------------------------+-------------------------+\n",
      "|  count|            43823|                         43823|                          43823|                    43823|\n",
      "|   mean|9.850944458389428|             82.75276786541987|              67.07522581369929|       11138.819090431965|\n",
      "| stddev|8.130191850223826|            159.00064157148347|              89.17442660813396|        8698.937767472748|\n",
      "|    min|          -12.686|                           0.0|                            0.0|                        0|\n",
      "|    25%|            3.259|                           0.0|                            0.0|                     4405|\n",
      "|    50%|            9.236|                0.420896849743|                  6.31168499305|                     8711|\n",
      "|    75%|           16.027|                 79.1732176318|                  119.482967251|                    15560|\n",
      "|    max|           35.479|                 841.681037795|                  392.089532353|                    45085|\n",
      "+-------+-----------------+------------------------------+-------------------------------+-------------------------+\n",
      "\n"
     ]
    },
    {
     "name": "stderr",
     "output_type": "stream",
     "text": [
      "                                                                                \r"
     ]
    }
   ],
   "source": [
    "df_DE_wind.summary().show()"
   ]
  },
  {
   "cell_type": "markdown",
   "id": "3672d773-d0e5-4eb3-8e6e-e54caf9c2bba",
   "metadata": {},
   "source": [
    "## Prediction model"
   ]
  },
  {
   "cell_type": "code",
   "execution_count": 30,
   "id": "1bb14937-c3b3-414c-aea9-6c8712bb56ef",
   "metadata": {},
   "outputs": [
    {
     "name": "stdout",
     "output_type": "stream",
     "text": [
      "+--------------+------------------------------+-------------------------------+--------------------------+\n",
      "|DE_temperature|DE_radiation_direct_horizontal|DE_radiation_diffuse_horizontal|DE_solar_generation_actual|\n",
      "+--------------+------------------------------+-------------------------------+--------------------------+\n",
      "|        -0.981|                           0.0|                            0.0|                         0|\n",
      "|        -1.035|                           0.0|                            0.0|                         0|\n",
      "|        -1.109|                           0.0|                            0.0|                         0|\n",
      "|        -1.166|                           0.0|                            0.0|                         0|\n",
      "|        -1.226|                           0.0|                            0.0|                         0|\n",
      "+--------------+------------------------------+-------------------------------+--------------------------+\n",
      "only showing top 5 rows\n",
      "\n"
     ]
    }
   ],
   "source": [
    "df_DE_solar.show(5)"
   ]
  },
  {
   "cell_type": "code",
   "execution_count": 31,
   "id": "4dc409c5-5a6f-405f-8caf-75c77f0a390c",
   "metadata": {},
   "outputs": [
    {
     "name": "stderr",
     "output_type": "stream",
     "text": [
      "                                                                                \r"
     ]
    },
    {
     "name": "stdout",
     "output_type": "stream",
     "text": [
      "+--------------+------------------------------+-------------------------------+-------------------------+\n",
      "|DE_temperature|DE_radiation_direct_horizontal|DE_radiation_diffuse_horizontal|DE_wind_generation_actual|\n",
      "+--------------+------------------------------+-------------------------------+-------------------------+\n",
      "|        -0.981|                           0.0|                            0.0|                     8852|\n",
      "|        -1.035|                           0.0|                            0.0|                     9054|\n",
      "|        -1.109|                           0.0|                            0.0|                     9070|\n",
      "|        -1.166|                           0.0|                            0.0|                     9163|\n",
      "|        -1.226|                           0.0|                            0.0|                     9231|\n",
      "+--------------+------------------------------+-------------------------------+-------------------------+\n",
      "only showing top 5 rows\n",
      "\n"
     ]
    }
   ],
   "source": [
    "df_DE_wind.show(5)"
   ]
  },
  {
   "cell_type": "code",
   "execution_count": null,
   "id": "04cc5fb8-4f51-458c-8322-36ceb0fd7531",
   "metadata": {},
   "outputs": [],
   "source": []
  }
 ],
 "metadata": {
  "kernelspec": {
   "display_name": "Python [conda env:bigdata]",
   "language": "python",
   "name": "conda-env-bigdata-py"
  },
  "language_info": {
   "codemirror_mode": {
    "name": "ipython",
    "version": 3
   },
   "file_extension": ".py",
   "mimetype": "text/x-python",
   "name": "python",
   "nbconvert_exporter": "python",
   "pygments_lexer": "ipython3",
   "version": "3.10.13"
  }
 },
 "nbformat": 4,
 "nbformat_minor": 5
}
