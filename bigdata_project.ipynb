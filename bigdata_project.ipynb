{
  "cells": [
    {
      "cell_type": "code",
      "execution_count": null,
      "metadata": {
        "colab": {
          "base_uri": "https://localhost:8080/"
        },
        "id": "hDSDn6Str8kZ",
        "outputId": "6820dc3f-13fa-41b6-b5f5-f2a2761af737"
      },
      "outputs": [
        {
          "output_type": "stream",
          "name": "stdout",
          "text": [
            "Requirement already satisfied: pyspark in /usr/local/lib/python3.10/dist-packages (3.5.1)\n",
            "Requirement already satisfied: py4j==0.10.9.7 in /usr/local/lib/python3.10/dist-packages (from pyspark) (0.10.9.7)\n"
          ]
        }
      ],
      "source": [
        "!pip install pyspark"
      ]
    },
    {
      "cell_type": "code",
      "execution_count": null,
      "metadata": {
        "id": "W9ntyFrMttiJ"
      },
      "outputs": [],
      "source": [
        "from pyspark.sql import SparkSession\n",
        "\n",
        "# Initialize SparkSession\n",
        "spark = SparkSession.builder \\\n",
        "    .appName(\"Load Parquet Files\") \\\n",
        "    .getOrCreate()"
      ]
    },
    {
      "cell_type": "code",
      "execution_count": null,
      "metadata": {
        "id": "bg4qrjfUuKEk"
      },
      "outputs": [],
      "source": [
        "df = spark.read.parquet('/content/drive/MyDrive/bigdata_data/df_DE_solar_new.parquet')"
      ]
    },
    {
      "cell_type": "code",
      "execution_count": null,
      "metadata": {
        "colab": {
          "base_uri": "https://localhost:8080/"
        },
        "id": "QP5RWj-6ulXZ",
        "outputId": "ba412797-a97c-425a-d694-c3757d7eabcd"
      },
      "outputs": [
        {
          "output_type": "stream",
          "name": "stdout",
          "text": [
            "+--------------+------------------------------+-------------------------------+--------------------------+\n",
            "|DE_temperature|DE_radiation_direct_horizontal|DE_radiation_diffuse_horizontal|DE_solar_generation_actual|\n",
            "+--------------+------------------------------+-------------------------------+--------------------------+\n",
            "|        -1.692|                0.432794925491|                  6.76800507451|                      71.0|\n",
            "|        -1.046|                 8.87734881749|                  51.9463511825|                     773.0|\n",
            "|         0.072|                 34.1582502313|                  97.0929497687|                    2117.0|\n",
            "|         0.866|                 56.5458478345|                  120.290652165|                    3364.0|\n",
            "|         1.493|                  62.869001592|                  126.211198408|                    4198.0|\n",
            "|         1.818|                 54.2607041126|                  115.727495887|                    3500.0|\n",
            "|         1.726|                 28.5704189677|                  87.5580810323|                    2279.0|\n",
            "|         1.103|                 5.83977385135|                  38.3294261486|                     746.0|\n",
            "|          0.18|                0.180826051431|                  2.29707394857|                      50.0|\n",
            "|         0.893|                0.257183009389|                  6.42051699061|                      38.0|\n",
            "|         1.577|                 1.57381658684|                  35.8542834132|                     252.0|\n",
            "|         2.327|                  3.6358569827|                  68.0313430173|                     667.0|\n",
            "|         3.027|                 7.95798667952|                   100.66251332|                    1262.0|\n",
            "|         3.517|                 10.5469209042|                  112.349679096|                    1726.0|\n",
            "|         3.729|                 8.65019649642|                  98.9765035036|                    1899.0|\n",
            "|         3.646|                 7.07011804466|                  76.7581819553|                    1352.0|\n",
            "|         3.205|                 2.01886055445|                  32.6811394455|                     516.0|\n",
            "|         2.656|               0.0471735834387|                  1.60582641656|                      45.0|\n",
            "|         0.168|                0.195717595263|                  6.22568240474|                      74.0|\n",
            "|         0.565|                 1.22061461002|                    34.90418539|                     608.0|\n",
            "+--------------+------------------------------+-------------------------------+--------------------------+\n",
            "only showing top 20 rows\n",
            "\n"
          ]
        }
      ],
      "source": [
        "df.show()"
      ]
    },
    {
      "cell_type": "code",
      "execution_count": null,
      "metadata": {
        "colab": {
          "base_uri": "https://localhost:8080/"
        },
        "id": "L7j4_OYXuq4f",
        "outputId": "452d1d3e-c205-4d47-c1ea-65ae197a56fd"
      },
      "outputs": [
        {
          "output_type": "execute_result",
          "data": {
            "text/plain": [
              "500000"
            ]
          },
          "metadata": {},
          "execution_count": 68
        }
      ],
      "source": [
        "df.count()"
      ]
    },
    {
      "cell_type": "code",
      "execution_count": null,
      "metadata": {
        "id": "au-eTmFsut6A"
      },
      "outputs": [],
      "source": [
        "df1 = df"
      ]
    },
    {
      "cell_type": "code",
      "execution_count": null,
      "metadata": {
        "id": "47jBIuLauwkT"
      },
      "outputs": [],
      "source": [
        "df1 = df1.filter(df1['DE_solar_generation_actual'] > 0)"
      ]
    },
    {
      "cell_type": "code",
      "execution_count": null,
      "metadata": {
        "colab": {
          "base_uri": "https://localhost:8080/"
        },
        "id": "5xkFD8N9u4Wk",
        "outputId": "c5c75c9e-7ef8-4eab-bb0a-95c5b853f62d"
      },
      "outputs": [
        {
          "output_type": "execute_result",
          "data": {
            "text/plain": [
              "500000"
            ]
          },
          "metadata": {},
          "execution_count": 71
        }
      ],
      "source": [
        "df1.count()"
      ]
    },
    {
      "cell_type": "code",
      "execution_count": null,
      "metadata": {
        "colab": {
          "base_uri": "https://localhost:8080/"
        },
        "id": "V7Z2NN2_u9Ce",
        "outputId": "9294d45a-631a-4652-cf4b-4015431958f1"
      },
      "outputs": [
        {
          "output_type": "stream",
          "name": "stdout",
          "text": [
            "+--------------+------------------------------+-------------------------------+--------------------------+\n",
            "|DE_temperature|DE_radiation_direct_horizontal|DE_radiation_diffuse_horizontal|DE_solar_generation_actual|\n",
            "+--------------+------------------------------+-------------------------------+--------------------------+\n",
            "|        -1.692|                0.432794925491|                  6.76800507451|                      71.0|\n",
            "|        -1.046|                 8.87734881749|                  51.9463511825|                     773.0|\n",
            "|         0.072|                 34.1582502313|                  97.0929497687|                    2117.0|\n",
            "|         0.866|                 56.5458478345|                  120.290652165|                    3364.0|\n",
            "|         1.493|                  62.869001592|                  126.211198408|                    4198.0|\n",
            "|         1.818|                 54.2607041126|                  115.727495887|                    3500.0|\n",
            "|         1.726|                 28.5704189677|                  87.5580810323|                    2279.0|\n",
            "|         1.103|                 5.83977385135|                  38.3294261486|                     746.0|\n",
            "|          0.18|                0.180826051431|                  2.29707394857|                      50.0|\n",
            "|         0.893|                0.257183009389|                  6.42051699061|                      38.0|\n",
            "|         1.577|                 1.57381658684|                  35.8542834132|                     252.0|\n",
            "|         2.327|                  3.6358569827|                  68.0313430173|                     667.0|\n",
            "|         3.027|                 7.95798667952|                   100.66251332|                    1262.0|\n",
            "|         3.517|                 10.5469209042|                  112.349679096|                    1726.0|\n",
            "|         3.729|                 8.65019649642|                  98.9765035036|                    1899.0|\n",
            "|         3.646|                 7.07011804466|                  76.7581819553|                    1352.0|\n",
            "|         3.205|                 2.01886055445|                  32.6811394455|                     516.0|\n",
            "|         2.656|               0.0471735834387|                  1.60582641656|                      45.0|\n",
            "|         0.168|                0.195717595263|                  6.22568240474|                      74.0|\n",
            "|         0.565|                 1.22061461002|                    34.90418539|                     608.0|\n",
            "+--------------+------------------------------+-------------------------------+--------------------------+\n",
            "only showing top 20 rows\n",
            "\n"
          ]
        }
      ],
      "source": [
        "df1.show()"
      ]
    },
    {
      "cell_type": "code",
      "source": [
        "from pyspark.sql.functions import mean, stddev,col"
      ],
      "metadata": {
        "id": "tyIiK3JFfA11"
      },
      "execution_count": null,
      "outputs": []
    },
    {
      "cell_type": "code",
      "source": [
        "mean_value = df.agg(mean(col('DE_solar_generation_actual'))).collect()[0][0]\n",
        "stddev_value = df.agg(stddev(col('DE_solar_generation_actual'))).collect()[0][0]"
      ],
      "metadata": {
        "id": "leZD8kVufFNv"
      },
      "execution_count": null,
      "outputs": []
    },
    {
      "cell_type": "code",
      "source": [
        "print(mean_value)\n",
        "print(stddev_value)"
      ],
      "metadata": {
        "colab": {
          "base_uri": "https://localhost:8080/"
        },
        "id": "nTovmG2OfPsf",
        "outputId": "95f59ddc-6736-4ffb-c760-b9b1054e0ef4"
      },
      "execution_count": null,
      "outputs": [
        {
          "output_type": "stream",
          "name": "stdout",
          "text": [
            "7604.360789692682\n",
            "7204.896696490558\n"
          ]
        }
      ]
    },
    {
      "cell_type": "code",
      "source": [
        "df1 = df1.withColumn('DE_solar_generation_actual', (col('DE_solar_generation_actual') - mean_value) / stddev_value)"
      ],
      "metadata": {
        "id": "G9BGX-dZf5s6"
      },
      "execution_count": null,
      "outputs": []
    },
    {
      "cell_type": "code",
      "source": [
        "df1.show()"
      ],
      "metadata": {
        "colab": {
          "base_uri": "https://localhost:8080/"
        },
        "id": "8z3K0WWOf--a",
        "outputId": "623a23a1-052c-4e35-a45b-99ed59dae6ba"
      },
      "execution_count": null,
      "outputs": [
        {
          "output_type": "stream",
          "name": "stdout",
          "text": [
            "+--------------+------------------------------+-------------------------------+--------------------------+\n",
            "|DE_temperature|DE_radiation_direct_horizontal|DE_radiation_diffuse_horizontal|DE_solar_generation_actual|\n",
            "+--------------+------------------------------+-------------------------------+--------------------------+\n",
            "|        -1.692|                0.432794925491|                  6.76800507451|       -1.0455890080092498|\n",
            "|        -1.046|                 8.87734881749|                  51.9463511825|       -0.9481552723747141|\n",
            "|         0.072|                 34.1582502313|                  97.0929497687|       -0.7616154708179963|\n",
            "|         0.866|                 56.5458478345|                  120.290652165|         -0.58853873529625|\n",
            "|         1.493|                  62.869001592|                  126.211198408|      -0.47278412629453676|\n",
            "|         1.818|                 54.2607041126|                  115.727495887|       -0.5696626839482488|\n",
            "|         1.726|                 28.5704189677|                  87.5580810323|       -0.7391307625946419|\n",
            "|         1.103|                 5.83977385135|                  38.3294261486|       -0.9519027237452732|\n",
            "|          0.18|                0.180826051431|                  2.29707394857|       -1.0485036924085733|\n",
            "|         0.893|                0.257183009389|                  6.42051699061|        -1.050169226351044|\n",
            "|         1.577|                 1.57381658684|                  35.8542834132|       -1.0204672043769834|\n",
            "|         2.327|                  3.6358569827|                  68.0313430173|       -0.9628674888665385|\n",
            "|         3.027|                 7.95798667952|                   100.66251332|       -0.8802847642190333|\n",
            "|         3.517|                 10.5469209042|                  112.349679096|       -0.8158841184434997|\n",
            "|         3.729|                 8.65019649642|                  98.9765035036|       -0.7918726707728806|\n",
            "|         3.646|                 7.07011804466|                  76.7581819553|       -0.8677932596505031|\n",
            "|         3.205|                 2.01886055445|                  32.6811394455|       -0.9838254576426281|\n",
            "|         2.656|               0.0471735834387|                  1.60582641656|       -1.0491976648846029|\n",
            "|         0.168|                0.195717595263|                  6.22568240474|       -1.0451726245236321|\n",
            "|         0.565|                 1.22061461002|                    34.90418539|       -0.9710563640836861|\n",
            "+--------------+------------------------------+-------------------------------+--------------------------+\n",
            "only showing top 20 rows\n",
            "\n"
          ]
        }
      ]
    },
    {
      "cell_type": "code",
      "execution_count": null,
      "metadata": {
        "id": "AuCgw52HzKYh"
      },
      "outputs": [],
      "source": [
        "from pyspark.ml.feature import VectorAssembler\n",
        "from pyspark.ml.regression import GBTRegressor\n",
        "from pyspark.ml.evaluation import RegressionEvaluator\n",
        "from pyspark.ml.tuning import ParamGridBuilder, CrossValidator"
      ]
    },
    {
      "cell_type": "code",
      "execution_count": null,
      "metadata": {
        "id": "PVBLxjrnzL7u"
      },
      "outputs": [],
      "source": [
        "df1 = df1.select(df1.columns). \\\n",
        "    withColumn(\"DE_temperature\", df1[\"DE_temperature\"].cast(\"float\")). \\\n",
        "    withColumn(\"DE_radiation_direct_horizontal\", df1[\"DE_radiation_direct_horizontal\"].cast(\"float\")). \\\n",
        "    withColumn(\"DE_radiation_diffuse_horizontal\", df1[\"DE_radiation_diffuse_horizontal\"].cast(\"float\")). \\\n",
        "    withColumn(\"DE_solar_generation_actual\", df1[\"DE_solar_generation_actual\"].cast(\"float\"))"
      ]
    },
    {
      "cell_type": "code",
      "execution_count": null,
      "metadata": {
        "id": "aZYP4FIFzaQq"
      },
      "outputs": [],
      "source": [
        "feature_columns = [\"DE_temperature\", \"DE_radiation_direct_horizontal\", \"DE_radiation_diffuse_horizontal\"]\n",
        "assembler = VectorAssembler(inputCols=feature_columns, outputCol=\"features\")\n",
        "data = assembler.transform(df1).select(\"features\", \"DE_solar_generation_actual\")"
      ]
    },
    {
      "cell_type": "code",
      "execution_count": null,
      "metadata": {
        "id": "uez3kNG6zfgm"
      },
      "outputs": [],
      "source": [
        "train_data, test_data = data.randomSplit([0.8, 0.2], seed=42)"
      ]
    },
    {
      "cell_type": "code",
      "execution_count": null,
      "metadata": {
        "id": "lPUfl6zbzh-2"
      },
      "outputs": [],
      "source": [
        "gbt = GBTRegressor(featuresCol=\"features\", labelCol=\"DE_solar_generation_actual\")"
      ]
    },
    {
      "cell_type": "code",
      "execution_count": null,
      "metadata": {
        "id": "0Ubfc--c3cX2"
      },
      "outputs": [],
      "source": [
        "param_grid = ParamGridBuilder() \\\n",
        "    .addGrid(gbt.maxIter, [50,60,70,80,90]) \\\n",
        "    .build()"
      ]
    },
    {
      "cell_type": "code",
      "execution_count": null,
      "metadata": {
        "id": "DfZcdrY83kjA"
      },
      "outputs": [],
      "source": [
        "evaluator = RegressionEvaluator(labelCol=\"DE_solar_generation_actual\", predictionCol=\"prediction\", metricName=\"rmse\")"
      ]
    },
    {
      "cell_type": "code",
      "execution_count": null,
      "metadata": {
        "id": "v1WmCuxK3uIn"
      },
      "outputs": [],
      "source": [
        "cv = CrossValidator(estimator=gbt,\n",
        "                    estimatorParamMaps=param_grid,\n",
        "                    evaluator=evaluator,\n",
        "                    numFolds=5)"
      ]
    },
    {
      "cell_type": "code",
      "execution_count": null,
      "metadata": {
        "id": "iEwTSDqi3z0m"
      },
      "outputs": [],
      "source": [
        "cv_model = cv.fit(train_data)"
      ]
    },
    {
      "cell_type": "code",
      "execution_count": null,
      "metadata": {
        "id": "a0ZhDnKs34Ik"
      },
      "outputs": [],
      "source": [
        "best_gbt_model = cv_model.bestModel"
      ]
    },
    {
      "cell_type": "code",
      "execution_count": null,
      "metadata": {
        "id": "DL1uI8oR37gQ"
      },
      "outputs": [],
      "source": [
        "gbt_predictions = best_gbt_model.transform(test_data)"
      ]
    },
    {
      "cell_type": "code",
      "execution_count": null,
      "metadata": {
        "colab": {
          "base_uri": "https://localhost:8080/"
        },
        "id": "gW6Ydv9L38BT",
        "outputId": "23c3ae8c-8f1d-4284-c4cc-3e8f00443e82"
      },
      "outputs": [
        {
          "output_type": "stream",
          "name": "stdout",
          "text": [
            "Root Mean Squared Error (RMSE) on test data: 0.23657889037984967\n"
          ]
        }
      ],
      "source": [
        "rmse = evaluator.evaluate(gbt_predictions)\n",
        "print(\"Root Mean Squared Error (RMSE) on test data:\", rmse)"
      ]
    },
    {
      "cell_type": "code",
      "execution_count": null,
      "metadata": {
        "colab": {
          "base_uri": "https://localhost:8080/"
        },
        "id": "n-iSV8JN3-Tx",
        "outputId": "67b939fc-038c-4f43-b21c-15266cdb1684"
      },
      "outputs": [
        {
          "output_type": "stream",
          "name": "stdout",
          "text": [
            "Best value for maxIter: 90\n"
          ]
        }
      ],
      "source": [
        "best_maxIter = best_gbt_model.getMaxIter()\n",
        "print(\"Best value for maxIter:\", best_maxIter)"
      ]
    },
    {
      "cell_type": "code",
      "source": [
        "model_path = \"/content/drive/MyDrive/final_best_gbt_model\"\n",
        "best_gbt_model.save(model_path)"
      ],
      "metadata": {
        "id": "VdI6dCsy8vly"
      },
      "execution_count": null,
      "outputs": []
    },
    {
      "cell_type": "code",
      "execution_count": null,
      "metadata": {
        "id": "BjWNeOeo2wSr"
      },
      "outputs": [],
      "source": [
        "from pyspark.ml.regression import RandomForestRegressor"
      ]
    },
    {
      "cell_type": "code",
      "execution_count": null,
      "metadata": {
        "id": "47BnCRHiz4re"
      },
      "outputs": [],
      "source": [
        "rf = RandomForestRegressor(featuresCol=\"features\", labelCol=\"DE_solar_generation_actual\")"
      ]
    },
    {
      "cell_type": "code",
      "execution_count": null,
      "metadata": {
        "id": "s7jiPuiwI1pO"
      },
      "outputs": [],
      "source": [
        "param_grid = ParamGridBuilder() \\\n",
        "    .addGrid(rf.numTrees, [50, 100, 150]) \\\n",
        "    .addGrid(rf.maxDepth, [5, 10, 15]) \\\n",
        "    .build()"
      ]
    },
    {
      "cell_type": "code",
      "execution_count": null,
      "metadata": {
        "id": "OrO9oQ0vI3_g"
      },
      "outputs": [],
      "source": [
        "evaluator = RegressionEvaluator(labelCol=\"DE_solar_generation_actual\", predictionCol=\"prediction\", metricName=\"rmse\")"
      ]
    },
    {
      "cell_type": "code",
      "execution_count": null,
      "metadata": {
        "id": "6O1t4XhYI6Jw"
      },
      "outputs": [],
      "source": [
        "cv = CrossValidator(estimator=rf,\n",
        "                    estimatorParamMaps=param_grid,\n",
        "                    evaluator=evaluator,\n",
        "                    numFolds=5)"
      ]
    },
    {
      "cell_type": "code",
      "execution_count": null,
      "metadata": {
        "id": "QyqmLnudI8j3"
      },
      "outputs": [],
      "source": [
        "cv_model = cv.fit(train_data)"
      ]
    },
    {
      "cell_type": "code",
      "execution_count": null,
      "metadata": {
        "id": "uS5twD2PI_b2"
      },
      "outputs": [],
      "source": [
        "best_model = cv_model.bestModel"
      ]
    },
    {
      "cell_type": "code",
      "execution_count": null,
      "metadata": {
        "id": "9nVYFSBbJBQb"
      },
      "outputs": [],
      "source": [
        "predictions = best_model.transform(test_data)"
      ]
    },
    {
      "cell_type": "code",
      "execution_count": null,
      "metadata": {
        "colab": {
          "base_uri": "https://localhost:8080/"
        },
        "id": "bPdK-76mJBtw",
        "outputId": "eb45f260-401b-4d44-c1a9-866cb676f6f3"
      },
      "outputs": [
        {
          "name": "stdout",
          "output_type": "stream",
          "text": [
            "Root Mean Squared Error (RMSE) on test data: 1845.5682630262443\n"
          ]
        }
      ],
      "source": [
        "rmse = evaluator.evaluate(predictions)\n",
        "print(\"Root Mean Squared Error (RMSE) on test data:\", rmse)"
      ]
    },
    {
      "cell_type": "code",
      "execution_count": null,
      "metadata": {
        "colab": {
          "base_uri": "https://localhost:8080/"
        },
        "id": "ZGjteLVhJDj1",
        "outputId": "bd66af4e-8c20-4e25-fef5-9fd518c6a788"
      },
      "outputs": [
        {
          "name": "stdout",
          "output_type": "stream",
          "text": [
            "Best value for numTrees: 150\n",
            "Best value for maxDepth: 15\n"
          ]
        }
      ],
      "source": [
        "best_numTrees = best_model.getNumTrees\n",
        "best_maxDepth = best_model.getOrDefault(\"maxDepth\")\n",
        "print(\"Best value for numTrees:\", best_numTrees)\n",
        "print(\"Best value for maxDepth:\", best_maxDepth)"
      ]
    },
    {
      "cell_type": "code",
      "execution_count": null,
      "metadata": {
        "id": "_UUvYUlm2CA9"
      },
      "outputs": [],
      "source": [
        "model_path = \"/content/drive/MyDrive/best_gbt_model\"\n",
        "best_gbt_model.save(model_path)"
      ]
    },
    {
      "cell_type": "code",
      "source": [],
      "metadata": {
        "id": "LqdoCEMAeOeT"
      },
      "execution_count": null,
      "outputs": []
    },
    {
      "cell_type": "code",
      "source": [
        "gbt_predictions.summary().show()"
      ],
      "metadata": {
        "id": "-abbqIEaeDHe"
      },
      "execution_count": null,
      "outputs": []
    },
    {
      "cell_type": "code",
      "source": [
        "scaled_actual = (gbt_predictions['DE_solar_generation_actual'] - 7593.21916686677)/7191.058701578969\n",
        "scaled_pred = (gbt_predictions['prediction'] - 7598.0848829962115)/6987.516354318852\n",
        "\n",
        "gbt_predictions = gbt_predictions.withColumn(\"scaled_actual\", scaled_actual)\n",
        "gbt_predictions = gbt_predictions.withColumn(\"scaled_pred\", scaled_pred)"
      ],
      "metadata": {
        "id": "pBnvDFQVeGaU"
      },
      "execution_count": null,
      "outputs": []
    },
    {
      "cell_type": "code",
      "source": [
        "import pyspark.sql.functions as psf\n",
        "\n",
        "def compute_RMSE(expected_col, actual_col):\n",
        "\n",
        "  rmse = gbt_predictions.withColumn(\"squarederror\",\n",
        "                           psf.pow(psf.col(actual_col) - psf.col(expected_col),\n",
        "                                   psf.lit(2)\n",
        "                           ))\\\n",
        "  .agg(psf.avg(psf.col(\"squarederror\")).alias(\"mse\"))\\\n",
        "  .withColumn(\"rmse\", psf.sqrt(psf.col(\"mse\")))\\\n",
        "\n",
        "  return(rmse)"
      ],
      "metadata": {
        "id": "ilHzp0GBeJ9r"
      },
      "execution_count": null,
      "outputs": []
    },
    {
      "cell_type": "code",
      "source": [
        "compute_RMSE(\"scaled_actual\", \"scaled_pred\").show()"
      ],
      "metadata": {
        "id": "KWPvIpeceLlG"
      },
      "execution_count": null,
      "outputs": []
    },
    {
      "cell_type": "code",
      "source": [
        "compute_RMSE(\"DE_solar_generation_actual\", \"prediction\").show()"
      ],
      "metadata": {
        "id": "gdvrTOd2eNEb"
      },
      "execution_count": null,
      "outputs": []
    }
  ],
  "metadata": {
    "colab": {
      "provenance": []
    },
    "kernelspec": {
      "display_name": "Python 3",
      "name": "python3"
    },
    "language_info": {
      "name": "python"
    }
  },
  "nbformat": 4,
  "nbformat_minor": 0
}